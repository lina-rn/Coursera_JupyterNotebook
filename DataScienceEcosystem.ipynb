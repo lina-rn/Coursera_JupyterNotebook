{
 "cells": [
  {
   "cell_type": "markdown",
   "id": "c5462a79-b8dd-41e5-b90b-bbd87c13325b",
   "metadata": {},
   "source": [
    "# Data Science Tools and Ecosystem"
   ]
  },
  {
   "cell_type": "markdown",
   "id": "32e0e6cc-7b3e-4808-8ada-8dd46b007729",
   "metadata": {},
   "source": [
    "In this notebook, Data Science Tools and Ecosystem are summarized."
   ]
  },
  {
   "cell_type": "markdown",
   "id": "86d2aaa7-5447-475f-9890-53b6a92abbb5",
   "metadata": {},
   "source": [
    "__Objectives:__\n",
    "- List popular languages for Data Science\n",
    "- List popular libraries for Data Science\n",
    "- List Data Science Tools"
   ]
  },
  {
   "cell_type": "markdown",
   "id": "2b9ff087-4921-4aa8-a8e9-53370f7612cd",
   "metadata": {},
   "source": [
    "Some of the popular languages that Data Scientists use are:\n",
    "1. Python\n",
    "1. R\n",
    "1. Julia"
   ]
  },
  {
   "cell_type": "markdown",
   "id": "14fd1717-6609-41de-a4b8-eaaca28bef3f",
   "metadata": {},
   "source": [
    "Some of the commonly used libraries used by Data Scientists include:\n",
    "1. Pandas\n",
    "1. NumPy\n",
    "1. matplotlib"
   ]
  },
  {
   "cell_type": "markdown",
   "id": "191a01e8-1c3e-466f-9d02-7f87f2514540",
   "metadata": {
    "tags": []
   },
   "source": [
    "| Data Science Tools|\n",
    "| ------ | \n",
    "| JupiterLab|\n",
    "|RStudio| \n",
    "| Spyder |"
   ]
  },
  {
   "cell_type": "markdown",
   "id": "a802196b-b214-47d5-84e1-f92e7f67e9b3",
   "metadata": {},
   "source": [
    "### Below are a few examples of evaluating arithmetic expressions in Python"
   ]
  },
  {
   "cell_type": "code",
   "execution_count": 6,
   "id": "aec686cb-53dc-4910-bad5-343d61d58bfc",
   "metadata": {
    "tags": []
   },
   "outputs": [
    {
     "data": {
      "text/plain": [
       "17"
      ]
     },
     "execution_count": 6,
     "metadata": {},
     "output_type": "execute_result"
    }
   ],
   "source": [
    "#This a simple arithmetic expression to mutiply then add integers\n",
    "(3*4)+5"
   ]
  },
  {
   "cell_type": "code",
   "execution_count": 7,
   "id": "481f6ea0-b977-4067-b3ac-9abdb1af49b5",
   "metadata": {
    "tags": []
   },
   "outputs": [
    {
     "data": {
      "text/plain": [
       "3.3333333333333335"
      ]
     },
     "execution_count": 7,
     "metadata": {},
     "output_type": "execute_result"
    }
   ],
   "source": [
    "#This will convert 200 minutes to hours by diving by 60\n",
    "200/60"
   ]
  },
  {
   "cell_type": "markdown",
   "id": "5c7c73c9-98c3-47ea-8f19-8505fccfb822",
   "metadata": {},
   "source": [
    "## Author \n",
    "Anhelina Rusyn"
   ]
  },
  {
   "cell_type": "code",
   "execution_count": null,
   "id": "13d5f8a9-6d43-4551-81e0-3298ed5229e5",
   "metadata": {},
   "outputs": [],
   "source": []
  }
 ],
 "metadata": {
  "kernelspec": {
   "display_name": "Python",
   "language": "python",
   "name": "conda-env-python-py"
  },
  "language_info": {
   "codemirror_mode": {
    "name": "ipython",
    "version": 3
   },
   "file_extension": ".py",
   "mimetype": "text/x-python",
   "name": "python",
   "nbconvert_exporter": "python",
   "pygments_lexer": "ipython3",
   "version": "3.7.12"
  }
 },
 "nbformat": 4,
 "nbformat_minor": 5
}
